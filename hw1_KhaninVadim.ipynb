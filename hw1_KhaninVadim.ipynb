{
 "cells": [
  {
   "cell_type": "code",
   "execution_count": 644,
   "id": "34c34757",
   "metadata": {},
   "outputs": [
    {
     "data": {
      "text/plain": [
       "<torch._C.Generator at 0x278deb8c690>"
      ]
     },
     "execution_count": 644,
     "metadata": {},
     "output_type": "execute_result"
    }
   ],
   "source": [
    "import numpy as np\n",
    "import matplotlib.pyplot as plt\n",
    "import torch\n",
    "import torch.nn as nn\n",
    "import torch.optim as optim\n",
    "import numpy as np\n",
    "import pandas as pd\n",
    "from sklearn.model_selection import train_test_split\n",
    "from sklearn.preprocessing import StandardScaler\n",
    "from sklearn.model_selection import cross_val_score\n",
    "# Set random seed for reproducibility\n",
    "np.random.seed(0)\n",
    "torch.manual_seed(123)"
   ]
  },
  {
   "cell_type": "code",
   "execution_count": 645,
   "id": "51fe6d21",
   "metadata": {},
   "outputs": [],
   "source": [
    "dataset_file = 'train.csv'\n",
    "dataset_file_target = 'train_target.csv'\n",
    "data = pd.read_csv(dataset_file)\n",
    "target = pd.read_csv(dataset_file_target)\n",
    "data = pd.concat([data, target], axis=1)\n",
    "data = data.set_index('id')"
   ]
  },
  {
   "cell_type": "code",
   "execution_count": 646,
   "id": "8caa09c2",
   "metadata": {},
   "outputs": [
    {
     "name": "stdout",
     "output_type": "stream",
     "text": [
      "<class 'pandas.core.frame.DataFrame'>\n",
      "Int64Index: 2470 entries, 0 to 2469\n",
      "Columns: 235 entries, agent_1_feat_Possession% to category\n",
      "dtypes: float64(212), int64(23)\n",
      "memory usage: 4.4 MB\n"
     ]
    }
   ],
   "source": [
    "data.info()\n"
   ]
  },
  {
   "cell_type": "code",
   "execution_count": 647,
   "id": "c040a7e6",
   "metadata": {},
   "outputs": [
    {
     "name": "stdout",
     "output_type": "stream",
     "text": [
      "<class 'pandas.core.frame.DataFrame'>\n",
      "Int64Index: 2470 entries, 0 to 2469\n",
      "Columns: 223 entries, agent_1_feat_Possession% to category\n",
      "dtypes: float64(200), int64(23)\n",
      "memory usage: 4.2 MB\n"
     ]
    }
   ],
   "source": [
    "data=data.dropna(axis=1)\n",
    "data.info()"
   ]
  },
  {
   "cell_type": "code",
   "execution_count": 648,
   "id": "b911d599",
   "metadata": {},
   "outputs": [],
   "source": [
    "x_train, x_test, y_train, y_test = train_test_split(data.drop('category', axis=1), data['category'], test_size=0.2, random_state=223)\n",
    "scaler = StandardScaler()\n",
    "x_train = scaler.fit_transform(x_train)\n",
    "x_test = scaler.transform(x_test)"
   ]
  },
  {
   "cell_type": "code",
   "execution_count": 649,
   "id": "7ae54385",
   "metadata": {},
   "outputs": [],
   "source": [
    "x_tr = torch.tensor(x_train, dtype=torch.float32)\n",
    "y_tr = torch.tensor(y_train.values, dtype=torch.float32)\n",
    "x_t = torch.tensor(x_test, dtype=torch.float32)\n",
    "y_t = torch.tensor(y_test.values, dtype=torch.float32)"
   ]
  },
  {
   "cell_type": "code",
   "execution_count": 650,
   "id": "e66c8a0b",
   "metadata": {},
   "outputs": [],
   "source": [
    "class LogisticRegression(nn.Module):\n",
    "    def __init__(self, input_dim):\n",
    "        super(LogisticRegression, self).__init__()\n",
    "        self.linear = nn.Linear(input_dim, 1)\n",
    "        self.sigmoid = nn.Sigmoid()\n",
    "\n",
    "    def forward(self, x):\n",
    "        out = self.linear(x)\n",
    "        out = self.sigmoid(out)\n",
    "        return out"
   ]
  },
  {
   "cell_type": "code",
   "execution_count": 651,
   "id": "7255b734",
   "metadata": {},
   "outputs": [],
   "source": [
    "input_dim = x_tr.shape[1]\n",
    "model = LogisticRegression(input_dim)\n",
    "criterion = nn.BCELoss()  \n",
    "optimizer = optim.SGD(model.parameters(), lr=0.001)"
   ]
  },
  {
   "cell_type": "code",
   "execution_count": 652,
   "id": "9ca3f207",
   "metadata": {},
   "outputs": [
    {
     "data": {
      "text/plain": [
       "torch.Size([1976])"
      ]
     },
     "execution_count": 652,
     "metadata": {},
     "output_type": "execute_result"
    }
   ],
   "source": [
    "y_tr.size()"
   ]
  },
  {
   "cell_type": "code",
   "execution_count": 653,
   "id": "145b0ea8",
   "metadata": {},
   "outputs": [
    {
     "name": "stdout",
     "output_type": "stream",
     "text": [
      "Epoch [1000/10000], Loss: 0.6903\n",
      "Epoch [2000/10000], Loss: 0.6769\n",
      "Epoch [3000/10000], Loss: 0.6696\n",
      "Epoch [4000/10000], Loss: 0.6650\n",
      "Epoch [5000/10000], Loss: 0.6619\n",
      "Epoch [6000/10000], Loss: 0.6597\n",
      "Epoch [7000/10000], Loss: 0.6580\n",
      "Epoch [8000/10000], Loss: 0.6567\n",
      "Epoch [9000/10000], Loss: 0.6557\n",
      "Epoch [10000/10000], Loss: 0.6549\n"
     ]
    }
   ],
   "source": [
    "num_epochs = 10000\n",
    "for epoch in range(num_epochs):\n",
    "    outputs = model(x_tr)\n",
    "    loss = criterion(outputs.squeeze(), y_tr)\n",
    "    optimizer.zero_grad()\n",
    "    loss.backward()\n",
    "    optimizer.step()\n",
    "    \n",
    "    if (epoch + 1) % 1000 == 0:\n",
    "        print(f'Epoch [{epoch + 1}/{num_epochs}], Loss: {loss.item():.4f}')"
   ]
  },
  {
   "cell_type": "code",
   "execution_count": 654,
   "id": "61451f28",
   "metadata": {},
   "outputs": [
    {
     "name": "stdout",
     "output_type": "stream",
     "text": [
      "torch.Size([494, 222])\n",
      "torch.Size([494])\n"
     ]
    }
   ],
   "source": [
    "print(x_t.size())\n",
    "print(y_t.size())"
   ]
  },
  {
   "cell_type": "code",
   "execution_count": 655,
   "id": "74ea62e9",
   "metadata": {},
   "outputs": [
    {
     "name": "stdout",
     "output_type": "stream",
     "text": [
      "0.5526315789473685\n"
     ]
    }
   ],
   "source": [
    "with torch.no_grad():\n",
    "    predicted = model(x_t)\n",
    "    predicted = (predicted > 0.5).float()  # Convert to binary predictions (0 or 1)\n",
    "    \n",
    "    accuracy = (predicted.squeeze() == y_t).sum().item()/y_t.size(0)\n",
    "    print(accuracy)"
   ]
  },
  {
   "cell_type": "markdown",
   "id": "48328a9f",
   "metadata": {},
   "source": [
    "# For kaggle "
   ]
  },
  {
   "cell_type": "code",
   "execution_count": 656,
   "id": "d0a5dc61",
   "metadata": {},
   "outputs": [
    {
     "name": "stdout",
     "output_type": "stream",
     "text": [
      "<class 'pandas.core.frame.DataFrame'>\n",
      "RangeIndex: 570 entries, 0 to 569\n",
      "Columns: 234 entries, agent_1_feat_Possession% to agent_2_featboth_scored_mean\n",
      "dtypes: float64(212), int64(22)\n",
      "memory usage: 1.0 MB\n",
      "<class 'pandas.core.frame.DataFrame'>\n",
      "RangeIndex: 570 entries, 0 to 569\n",
      "Columns: 222 entries, agent_1_feat_Possession% to agent_2_featboth_scored_mean_3\n",
      "dtypes: float64(200), int64(22)\n",
      "memory usage: 988.7 KB\n"
     ]
    }
   ],
   "source": [
    "dataset_file_kaggle = 'test.csv'\n",
    "test = pd.read_csv(dataset_file_kaggle)\n",
    "test.info()\n",
    "test=test.dropna(axis=1)\n",
    "test.info()"
   ]
  },
  {
   "cell_type": "code",
   "execution_count": 657,
   "id": "2a03c4de",
   "metadata": {},
   "outputs": [
    {
     "name": "stdout",
     "output_type": "stream",
     "text": [
      "<class 'pandas.core.frame.DataFrame'>\n",
      "Int64Index: 2470 entries, 0 to 2469\n",
      "Columns: 222 entries, agent_1_feat_Possession% to agent_2_featboth_scored_mean_3\n",
      "dtypes: float64(200), int64(22)\n",
      "memory usage: 4.2 MB\n",
      "None\n",
      "<class 'pandas.core.series.Series'>\n",
      "Int64Index: 2470 entries, 0 to 2469\n",
      "Series name: category\n",
      "Non-Null Count  Dtype\n",
      "--------------  -----\n",
      "2470 non-null   int64\n",
      "dtypes: int64(1)\n",
      "memory usage: 38.6 KB\n",
      "None\n"
     ]
    }
   ],
   "source": [
    "x_train_kaggle = data.drop('category', axis=1)\n",
    "y_train_kaggle = data['category']\n",
    "print(x_train_kaggle.info())\n",
    "print(y_train_kaggle.info())"
   ]
  },
  {
   "cell_type": "code",
   "execution_count": 658,
   "id": "ae75b585",
   "metadata": {},
   "outputs": [],
   "source": [
    "x_train_kaggle = scaler.fit_transform(x_train_kaggle)\n",
    "test = scaler.transform(test)"
   ]
  },
  {
   "cell_type": "code",
   "execution_count": 659,
   "id": "d8521919",
   "metadata": {},
   "outputs": [],
   "source": [
    "x_tr_kaggle = torch.tensor(x_train_kaggle, dtype=torch.float32)\n",
    "y_tr_kaggle = torch.tensor(y_train_kaggle.values, dtype=torch.float32)\n",
    "x_t_kaggle = torch.tensor(test, dtype=torch.float32)"
   ]
  },
  {
   "cell_type": "code",
   "execution_count": 660,
   "id": "91586ecc",
   "metadata": {},
   "outputs": [
    {
     "name": "stdout",
     "output_type": "stream",
     "text": [
      "Epoch [1000/10000], Loss: 0.6899\n",
      "Epoch [2000/10000], Loss: 0.6778\n",
      "Epoch [3000/10000], Loss: 0.6713\n",
      "Epoch [4000/10000], Loss: 0.6672\n",
      "Epoch [5000/10000], Loss: 0.6645\n",
      "Epoch [6000/10000], Loss: 0.6627\n",
      "Epoch [7000/10000], Loss: 0.6613\n",
      "Epoch [8000/10000], Loss: 0.6603\n",
      "Epoch [9000/10000], Loss: 0.6595\n",
      "Epoch [10000/10000], Loss: 0.6588\n"
     ]
    }
   ],
   "source": [
    "input_dim = x_tr_kaggle.shape[1]\n",
    "model = LogisticRegression(input_dim)\n",
    "criterion = nn.BCELoss()  \n",
    "optimizer = optim.SGD(model.parameters(), lr=0.001)\n",
    "num_epochs = 10000\n",
    "for epoch in range(num_epochs):\n",
    "    outputs = model(x_tr_kaggle)\n",
    "    loss = criterion(outputs.squeeze(), y_tr_kaggle)\n",
    "    optimizer.zero_grad()\n",
    "    loss.backward()\n",
    "    optimizer.step()\n",
    "    \n",
    "    if (epoch + 1) % 1000 == 0:\n",
    "        print(f'Epoch [{epoch + 1}/{num_epochs}], Loss: {loss.item():.4f}')"
   ]
  },
  {
   "cell_type": "code",
   "execution_count": 661,
   "id": "78d6e160",
   "metadata": {},
   "outputs": [],
   "source": [
    "with torch.no_grad():\n",
    "    predicted = model(x_t_kaggle)\n",
    "    predicted = (predicted > 0.5).float()  # Convert to binary predictions (0 or 1)"
   ]
  },
  {
   "cell_type": "code",
   "execution_count": 662,
   "id": "8af772d0",
   "metadata": {},
   "outputs": [
    {
     "name": "stdout",
     "output_type": "stream",
     "text": [
      "torch.Size([570, 1])\n",
      "torch.Size([570])\n"
     ]
    }
   ],
   "source": [
    "print(predicted.size())\n",
    "predicted = predicted.squeeze()\n",
    "print(predicted.size())"
   ]
  },
  {
   "cell_type": "code",
   "execution_count": 663,
   "id": "09aae6c4",
   "metadata": {},
   "outputs": [],
   "source": [
    "df = pd.DataFrame({'id': range(len(predicted)), 'category': predicted})\n",
    "df['category'] = df['category'].astype(int)"
   ]
  },
  {
   "cell_type": "code",
   "execution_count": 664,
   "id": "4c3c2c3c",
   "metadata": {},
   "outputs": [
    {
     "data": {
      "text/html": [
       "<div>\n",
       "<style scoped>\n",
       "    .dataframe tbody tr th:only-of-type {\n",
       "        vertical-align: middle;\n",
       "    }\n",
       "\n",
       "    .dataframe tbody tr th {\n",
       "        vertical-align: top;\n",
       "    }\n",
       "\n",
       "    .dataframe thead th {\n",
       "        text-align: right;\n",
       "    }\n",
       "</style>\n",
       "<table border=\"1\" class=\"dataframe\">\n",
       "  <thead>\n",
       "    <tr style=\"text-align: right;\">\n",
       "      <th></th>\n",
       "      <th>id</th>\n",
       "      <th>category</th>\n",
       "    </tr>\n",
       "  </thead>\n",
       "  <tbody>\n",
       "    <tr>\n",
       "      <th>0</th>\n",
       "      <td>0</td>\n",
       "      <td>0</td>\n",
       "    </tr>\n",
       "    <tr>\n",
       "      <th>1</th>\n",
       "      <td>1</td>\n",
       "      <td>0</td>\n",
       "    </tr>\n",
       "    <tr>\n",
       "      <th>2</th>\n",
       "      <td>2</td>\n",
       "      <td>1</td>\n",
       "    </tr>\n",
       "    <tr>\n",
       "      <th>3</th>\n",
       "      <td>3</td>\n",
       "      <td>0</td>\n",
       "    </tr>\n",
       "    <tr>\n",
       "      <th>4</th>\n",
       "      <td>4</td>\n",
       "      <td>0</td>\n",
       "    </tr>\n",
       "    <tr>\n",
       "      <th>...</th>\n",
       "      <td>...</td>\n",
       "      <td>...</td>\n",
       "    </tr>\n",
       "    <tr>\n",
       "      <th>565</th>\n",
       "      <td>565</td>\n",
       "      <td>1</td>\n",
       "    </tr>\n",
       "    <tr>\n",
       "      <th>566</th>\n",
       "      <td>566</td>\n",
       "      <td>0</td>\n",
       "    </tr>\n",
       "    <tr>\n",
       "      <th>567</th>\n",
       "      <td>567</td>\n",
       "      <td>0</td>\n",
       "    </tr>\n",
       "    <tr>\n",
       "      <th>568</th>\n",
       "      <td>568</td>\n",
       "      <td>1</td>\n",
       "    </tr>\n",
       "    <tr>\n",
       "      <th>569</th>\n",
       "      <td>569</td>\n",
       "      <td>0</td>\n",
       "    </tr>\n",
       "  </tbody>\n",
       "</table>\n",
       "<p>570 rows × 2 columns</p>\n",
       "</div>"
      ],
      "text/plain": [
       "      id  category\n",
       "0      0         0\n",
       "1      1         0\n",
       "2      2         1\n",
       "3      3         0\n",
       "4      4         0\n",
       "..   ...       ...\n",
       "565  565         1\n",
       "566  566         0\n",
       "567  567         0\n",
       "568  568         1\n",
       "569  569         0\n",
       "\n",
       "[570 rows x 2 columns]"
      ]
     },
     "execution_count": 664,
     "metadata": {},
     "output_type": "execute_result"
    }
   ],
   "source": [
    "df"
   ]
  },
  {
   "cell_type": "code",
   "execution_count": 665,
   "id": "e7f27c70",
   "metadata": {},
   "outputs": [],
   "source": [
    "df.to_csv('res5.csv', index=False,header=1)"
   ]
  },
  {
   "cell_type": "code",
   "execution_count": null,
   "id": "2edd7655",
   "metadata": {},
   "outputs": [],
   "source": []
  }
 ],
 "metadata": {
  "kernelspec": {
   "display_name": "Python 3 (ipykernel)",
   "language": "python",
   "name": "python3"
  },
  "language_info": {
   "codemirror_mode": {
    "name": "ipython",
    "version": 3
   },
   "file_extension": ".py",
   "mimetype": "text/x-python",
   "name": "python",
   "nbconvert_exporter": "python",
   "pygments_lexer": "ipython3",
   "version": "3.9.12"
  }
 },
 "nbformat": 4,
 "nbformat_minor": 5
}
